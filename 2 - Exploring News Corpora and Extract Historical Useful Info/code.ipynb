{
 "cells": [
  {
   "cell_type": "markdown",
   "metadata": {
    "colab_type": "text",
    "id": "QtyTyAv-MRci"
   },
   "source": [
    "# Exploring Corpora (more details with plot)"
   ]
  },
  {
   "cell_type": "markdown",
   "metadata": {
    "colab_type": "text",
    "id": "uV36tzHFMUUw"
   },
   "source": [
    "In this assignment, I will perform text normalization, using Regular Expression, then explore corpora.\n",
    "\n",
    "The corpora are in Arabic language, and I want to find count of some words, and change in counts according to different years.\n",
    "\n",
    "The text normalization includes\n",
    "\n",
    "1.   علامات الترقيم\n",
    "2.   الحركات\n",
    "3. التنوين\n",
    "\n",
    "## Search is allowed for single word or sentance of many words"
   ]
  },
  {
   "cell_type": "markdown",
   "metadata": {
    "colab_type": "text",
    "id": "fKnGK-o7MjV4"
   },
   "source": [
    "## Functions"
   ]
  },
  {
   "cell_type": "code",
   "execution_count": 0,
   "metadata": {
    "colab": {
     "base_uri": "https://localhost:8080/",
     "height": 35
    },
    "colab_type": "code",
    "executionInfo": {
     "elapsed": 1155,
     "status": "ok",
     "timestamp": 1573067076565,
     "user": {
      "displayName": "Mohammed El-Agha",
      "photoUrl": "https://lh3.googleusercontent.com/a-/AAuE7mCGmpRPF21sBF4FQoQvkbo3t1wJPMnRFLdhNhED=s64",
      "userId": "07466696460023830380"
     },
     "user_tz": -180
    },
    "id": "7pbrTyA_MmQx",
    "outputId": "3cf946ee-7588-4081-feec-e035a73bbae2"
   },
   "outputs": [
    {
     "name": "stdout",
     "output_type": "stream",
     "text": [
      "Drive already mounted at /content/drive; to attempt to forcibly remount, call drive.mount(\"/content/drive\", force_remount=True).\n"
     ]
    }
   ],
   "source": [
    "import re\n",
    "from datetime import datetime\n",
    "import matplotlib.pyplot as plt\n",
    "import numpy as np\n",
    "from google.colab import drive\n",
    "import pandas as pd\n",
    "\n",
    "def load_lined_corpus(file_name):\n",
    "    base_url = \"url or drive path/\"\n",
    "    text = open(base_url+file_name, encoding='utf-8').read().split('\\n')\n",
    "    return text\n",
    "\n",
    "def words_count(text):\n",
    "    text = text.split()\n",
    "    word_counts = {}\n",
    "    for word in text:\n",
    "        word_counts[word] = word_counts.get(word, 0) + 1\n",
    "    return list(word_counts.items())\n",
    "\n",
    "def word_regex(term):\n",
    "    return '[\"\\',-\\\\/:،؛ًٌٍَُِّ]?' + term + '[\"\\',-\\\\/:،؛ًٌٍَُِّ]?'\n",
    "\n",
    "def detect_year_from_date(date):\n",
    "    dt = datetime.strptime(date, '%Y-%m-%d')\n",
    "    return dt.year\n",
    "\n",
    "def struct_dict_of_years(text):\n",
    "    date_regex = '([0-9]{4}-[0-9]{2}-[0-9]{2})$' # the date of title is at end of statement\n",
    "    dictionaty = {}\n",
    "    \n",
    "    for line in text:\n",
    "        date_result = re.search(date_regex, line)\n",
    "        if date_result is not None:\n",
    "            date = re.search(date_regex, line)[0]\n",
    "            year = detect_year_from_date(date)\n",
    "            dictionaty[year] = list()\n",
    "        \n",
    "    return dictionaty\n",
    "\n",
    "def struct_title_date_dict(text, year):\n",
    "    date_regex = '([0-9]{4}-[0-9]{2}-[0-9]{2})$' # the date of title is at end of statement\n",
    "    titles = list()\n",
    "    \n",
    "    for line in text:\n",
    "        date_result = re.search(date_regex, line)\n",
    "        if date_result is not None:\n",
    "            date = re.search(date_regex, line)[0]\n",
    "            statement = re.sub(date, '', line).strip()\n",
    "            \n",
    "            title_year = detect_year_from_date(date)\n",
    "            if title_year == year:\n",
    "                titles.append(statement)\n",
    "    \n",
    "    return titles\n",
    "\n",
    "def word_count(word, list_of_year):\n",
    "    whole_text = ' '.join(list_of_year)\n",
    "    return len(re.findall(word_regex(word), whole_text))\n",
    "\n",
    "# if you use Google Drive\n",
    "drive.mount('/content/drive')"
   ]
  },
  {
   "cell_type": "markdown",
   "metadata": {
    "colab_type": "text",
    "id": "yQWJJQI8Msko"
   },
   "source": [
    "## Files"
   ]
  },
  {
   "cell_type": "code",
   "execution_count": 0,
   "metadata": {
    "colab": {},
    "colab_type": "code",
    "id": "shLVOsrcMuIQ"
   },
   "outputs": [],
   "source": [
    "# Files\n",
    "jsc = load_lined_corpus(\"aljazeera.net_20190419_date_titles.txt\")\n",
    "cnn = load_lined_corpus(\"arabic.cnn.com_20190419_date_titles.txt\")\n",
    "euro  = load_lined_corpus(\"arabic.euronews.com_20190409_date_titles.txt\")\n",
    "rt = load_lined_corpus(\"arabic.rt.com_20190419_date_titles.txt\")\n",
    "bbc = load_lined_corpus(\"bbc.com_20190409_date_titles.txt\")"
   ]
  },
  {
   "cell_type": "markdown",
   "metadata": {
    "colab_type": "text",
    "id": "yRYYj0gSRlaN"
   },
   "source": [
    "## Dictionary of Years"
   ]
  },
  {
   "cell_type": "markdown",
   "metadata": {
    "colab_type": "text",
    "id": "7QoOwNkESsm8"
   },
   "source": [
    "for jsc (as example)"
   ]
  },
  {
   "cell_type": "code",
   "execution_count": 0,
   "metadata": {
    "colab": {},
    "colab_type": "code",
    "id": "iRrcKotpRoXh"
   },
   "outputs": [],
   "source": [
    "jsc_years_dict = struct_dict_of_years(jsc)\n",
    "jsc_dict = {}\n",
    "for year in jsc_years_dict.keys():\n",
    "    jsc_dict[year] = struct_title_date_dict(jsc, year)"
   ]
  },
  {
   "cell_type": "markdown",
   "metadata": {
    "colab_type": "text",
    "id": "x7H9GapKS_KB"
   },
   "source": [
    "for rt"
   ]
  },
  {
   "cell_type": "code",
   "execution_count": 0,
   "metadata": {
    "colab": {},
    "colab_type": "code",
    "id": "qGWRnKY_TAKL"
   },
   "outputs": [],
   "source": [
    "rt_years_dict = struct_dict_of_years(rt)\n",
    "rt_dict = {}\n",
    "for year in rt_years_dict.keys():\n",
    "    jsc_dict[year] = struct_title_date_dict(rt, year)"
   ]
  },
  {
   "cell_type": "markdown",
   "metadata": {
    "colab_type": "text",
    "id": "-yrt_jLV6HRa"
   },
   "source": [
    "for euro"
   ]
  },
  {
   "cell_type": "code",
   "execution_count": 0,
   "metadata": {
    "colab": {},
    "colab_type": "code",
    "id": "2osIXMyx6IFk"
   },
   "outputs": [],
   "source": [
    "euro_years_dict = struct_dict_of_years(euro)\n",
    "euro_dict = {}\n",
    "for year in euro_years_dict.keys():\n",
    "    euro_dict[year] = struct_title_date_dict(euro, year)"
   ]
  },
  {
   "cell_type": "markdown",
   "metadata": {
    "colab_type": "text",
    "id": "9VVTMzygHBkv"
   },
   "source": [
    "for bbc"
   ]
  },
  {
   "cell_type": "code",
   "execution_count": 0,
   "metadata": {
    "colab": {},
    "colab_type": "code",
    "id": "WuhkdRkGHMQW"
   },
   "outputs": [],
   "source": [
    "bbc_years_dict = struct_dict_of_years(bbc)\n",
    "bbc_dict = {}\n",
    "for year in bbc_years_dict.keys():\n",
    "    bbc_dict[year] = struct_title_date_dict(bbc, year)"
   ]
  },
  {
   "cell_type": "markdown",
   "metadata": {
    "colab_type": "text",
    "id": "41IceL5-HOAe"
   },
   "source": [
    "for cnn"
   ]
  },
  {
   "cell_type": "code",
   "execution_count": 0,
   "metadata": {
    "colab": {},
    "colab_type": "code",
    "id": "6uP7nbl-HOyw"
   },
   "outputs": [],
   "source": [
    "cnn_years_dict = struct_dict_of_years(cnn)\n",
    "cnn_dict = {}\n",
    "for year in cnn_years_dict.keys():\n",
    "    cnn_dict[year] = struct_title_date_dict(cnn, year)"
   ]
  },
  {
   "cell_type": "markdown",
   "metadata": {
    "colab_type": "text",
    "id": "WP2wXRpCRqAq"
   },
   "source": [
    "## Plotting"
   ]
  },
  {
   "cell_type": "markdown",
   "metadata": {
    "colab_type": "text",
    "id": "KL1AfzuYRrOK"
   },
   "source": [
    "### Example 1 - One word\n",
    "#### word: \"قطر\"\n",
    "#### in: jsc"
   ]
  },
  {
   "cell_type": "code",
   "execution_count": 0,
   "metadata": {
    "colab": {
     "base_uri": "https://localhost:8080/",
     "height": 265
    },
    "colab_type": "code",
    "executionInfo": {
     "elapsed": 1328,
     "status": "ok",
     "timestamp": 1573067783591,
     "user": {
      "displayName": "Mohammed El-Agha",
      "photoUrl": "https://lh3.googleusercontent.com/a-/AAuE7mCGmpRPF21sBF4FQoQvkbo3t1wJPMnRFLdhNhED=s64",
      "userId": "07466696460023830380"
     },
     "user_tz": -180
    },
    "id": "xL88CcqmRzKZ",
    "outputId": "b1c04994-6205-4a2f-d203-3cd223502a9a"
   },
   "outputs": [
    {
     "data": {
      "image/png": "[encoded data removed]",
      "text/plain": [
       "<Figure size 432x288 with 1 Axes>"
      ]
     },
     "metadata": {
      "tags": []
     },
     "output_type": "display_data"
    }
   ],
   "source": [
    "# Plotting\n",
    "search_key = 'قطر'\n",
    "bins = list(jsc_dict.keys());\n",
    "data = dict()\n",
    "for key in jsc_dict.keys():\n",
    "    data[key] = word_count(search_key, jsc_dict[key])\n",
    "lists = sorted(data.items())\n",
    "x, y = zip(*lists)\n",
    "plt.plot(x, y)\n",
    "plt.show()"
   ]
  },
  {
   "cell_type": "markdown",
   "metadata": {
    "colab_type": "text",
    "id": "BbyITKeKSDEL"
   },
   "source": [
    "-------------------------------------------------------------------"
   ]
  },
  {
   "cell_type": "markdown",
   "metadata": {
    "colab_type": "text",
    "id": "u5Jtb04RSGcK"
   },
   "source": [
    "### Example 2 - Sentance of many words\n",
    "#### word: \"بشار الأسد\"\n",
    "#### in: cnn"
   ]
  },
  {
   "cell_type": "code",
   "execution_count": 0,
   "metadata": {
    "colab": {
     "base_uri": "https://localhost:8080/",
     "height": 265
    },
    "colab_type": "code",
    "executionInfo": {
     "elapsed": 766,
     "status": "ok",
     "timestamp": 1573067884412,
     "user": {
      "displayName": "Mohammed El-Agha",
      "photoUrl": "https://lh3.googleusercontent.com/a-/AAuE7mCGmpRPF21sBF4FQoQvkbo3t1wJPMnRFLdhNhED=s64",
      "userId": "07466696460023830380"
     },
     "user_tz": -180
    },
    "id": "WVEtPZGFTE6a",
    "outputId": "93575b41-ed12-452f-e105-3bd19b825f48"
   },
   "outputs": [
    {
     "data": {
      "image/png": "[encoded data removed]",
      "text/plain": [
       "<Figure size 432x288 with 1 Axes>"
      ]
     },
     "metadata": {
      "tags": []
     },
     "output_type": "display_data"
    }
   ],
   "source": [
    "# Plotting 'بشار الأسد' in cnn\n",
    "search_key = 'بشار الأسد'\n",
    "bins = list(cnn_dict.keys());\n",
    "data = dict()\n",
    "for key in cnn_dict.keys():\n",
    "    data[key] = word_count(search_key, cnn_dict[key])\n",
    "lists = sorted(data.items())\n",
    "x, y = zip(*lists)\n",
    "plt.plot(x, y)\n",
    "plt.show()"
   ]
  },
  {
   "cell_type": "markdown",
   "metadata": {
    "colab_type": "text",
    "id": "nZCnLBYs5pbq"
   },
   "source": [
    "-------------------------------------------------------------------"
   ]
  },
  {
   "cell_type": "markdown",
   "metadata": {
    "colab_type": "text",
    "id": "1R8rubLm5qE_"
   },
   "source": [
    "### Example 3 - \n",
    "#### word: \"ديمقراطية\"\n",
    "#### in: euro"
   ]
  },
  {
   "cell_type": "code",
   "execution_count": 0,
   "metadata": {
    "colab": {
     "base_uri": "https://localhost:8080/",
     "height": 265
    },
    "colab_type": "code",
    "executionInfo": {
     "elapsed": 893,
     "status": "ok",
     "timestamp": 1573067934162,
     "user": {
      "displayName": "Mohammed El-Agha",
      "photoUrl": "https://lh3.googleusercontent.com/a-/AAuE7mCGmpRPF21sBF4FQoQvkbo3t1wJPMnRFLdhNhED=s64",
      "userId": "07466696460023830380"
     },
     "user_tz": -180
    },
    "id": "bnMmfK_m6BDQ",
    "outputId": "37b3f12a-da23-4f86-f338-e33ff389d2b7"
   },
   "outputs": [
    {
     "data": {
      "image/png": "[encoded data removed]",
      "text/plain": [
       "<Figure size 432x288 with 1 Axes>"
      ]
     },
     "metadata": {
      "tags": []
     },
     "output_type": "display_data"
    }
   ],
   "source": [
    "# Plotting 'ديمقراطية' in euro\n",
    "search_key = 'ديمقراطية'\n",
    "bins = list(euro_dict.keys());\n",
    "data = dict()\n",
    "for key in euro_dict.keys():\n",
    "    data[key] = word_count(search_key, euro_dict[key])\n",
    "lists = sorted(data.items())\n",
    "x, y = zip(*lists)\n",
    "plt.plot(x, y)\n",
    "plt.show()"
   ]
  },
  {
   "cell_type": "markdown",
   "metadata": {
    "colab_type": "text",
    "id": "BJkpF6cqCuUr"
   },
   "source": [
    "-------------------------------------------------------------------"
   ]
  },
  {
   "cell_type": "markdown",
   "metadata": {
    "colab_type": "text",
    "id": "r79G3nxrCwKX"
   },
   "source": [
    "### Example 3 - \n",
    "#### word: \"ديمقراطية\"\n",
    "#### in: jsc"
   ]
  },
  {
   "cell_type": "code",
   "execution_count": 0,
   "metadata": {
    "colab": {
     "base_uri": "https://localhost:8080/",
     "height": 320
    },
    "colab_type": "code",
    "executionInfo": {
     "elapsed": 1572,
     "status": "ok",
     "timestamp": 1573067941056,
     "user": {
      "displayName": "Mohammed El-Agha",
      "photoUrl": "https://lh3.googleusercontent.com/a-/AAuE7mCGmpRPF21sBF4FQoQvkbo3t1wJPMnRFLdhNhED=s64",
      "userId": "07466696460023830380"
     },
     "user_tz": -180
    },
    "id": "Hxqywx2jCynE",
    "outputId": "c5e8fccc-c654-4733-baab-8d1564706194"
   },
   "outputs": [
    {
     "data": {
      "image/png": "[encoded data removed]",
      "text/plain": [
       "<Figure size 504x360 with 1 Axes>"
      ]
     },
     "metadata": {
      "tags": []
     },
     "output_type": "display_data"
    }
   ],
   "source": [
    "# Plotting 'ديمقراطية' in jsc\n",
    "search_key = 'ديمقراطية'\n",
    "bins = list(jsc_dict.keys());\n",
    "data = dict()\n",
    "for key in jsc_dict.keys():\n",
    "    data[key] = word_count(search_key, jsc_dict[key])\n",
    "lists = sorted(data.items())\n",
    "x, y = zip(*lists)\n",
    "plt.figure(figsize=(7,5))\n",
    "plt.plot(x, y)\n",
    "plt.show()"
   ]
  },
  {
   "cell_type": "markdown",
   "metadata": {
    "colab_type": "text",
    "id": "fLfFXtI8C_2Z"
   },
   "source": [
    "---------------------------------------------------------------------"
   ]
  },
  {
   "cell_type": "markdown",
   "metadata": {
    "colab_type": "text",
    "id": "O_EhD8rhKKny"
   },
   "source": [
    "### Example 4 - \n",
    "#### word: \"غزة\"\n",
    "#### in: jsc"
   ]
  },
  {
   "cell_type": "code",
   "execution_count": 0,
   "metadata": {
    "colab": {
     "base_uri": "https://localhost:8080/",
     "height": 320
    },
    "colab_type": "code",
    "executionInfo": {
     "elapsed": 1752,
     "status": "ok",
     "timestamp": 1573068020389,
     "user": {
      "displayName": "Mohammed El-Agha",
      "photoUrl": "https://lh3.googleusercontent.com/a-/AAuE7mCGmpRPF21sBF4FQoQvkbo3t1wJPMnRFLdhNhED=s64",
      "userId": "07466696460023830380"
     },
     "user_tz": -180
    },
    "id": "qDkrL7fIKO0G",
    "outputId": "2491ccd4-4d0f-4e6a-9480-3219430eaf00"
   },
   "outputs": [
    {
     "data": {
      "image/png": "[encoded data removed]",
      "text/plain": [
       "<Figure size 504x360 with 1 Axes>"
      ]
     },
     "metadata": {
      "tags": []
     },
     "output_type": "display_data"
    }
   ],
   "source": [
    "search_key = 'غزة'\n",
    "bins = list(jsc_dict.keys());\n",
    "data = dict()\n",
    "for key in jsc_dict.keys():\n",
    "    data[key] = word_count(search_key, jsc_dict[key])\n",
    "lists = sorted(data.items())\n",
    "x, y = zip(*lists)\n",
    "plt.figure(figsize=(7,5))\n",
    "plt.plot(x, y)\n",
    "plt.show()"
   ]
  },
  {
   "cell_type": "markdown",
   "metadata": {
    "colab_type": "text",
    "id": "yFkMPtW2KYJ6"
   },
   "source": [
    "-----------------------------------------------"
   ]
  },
  {
   "cell_type": "markdown",
   "metadata": {
    "colab_type": "text",
    "id": "6co4Eg8KKY_X"
   },
   "source": [
    "### Example 5 - \n",
    "#### word: \"حقوق الإنسان\"\n",
    "#### in: bbc"
   ]
  },
  {
   "cell_type": "code",
   "execution_count": 0,
   "metadata": {
    "colab": {
     "base_uri": "https://localhost:8080/",
     "height": 320
    },
    "colab_type": "code",
    "executionInfo": {
     "elapsed": 1072,
     "status": "ok",
     "timestamp": 1573068084286,
     "user": {
      "displayName": "Mohammed El-Agha",
      "photoUrl": "https://lh3.googleusercontent.com/a-/AAuE7mCGmpRPF21sBF4FQoQvkbo3t1wJPMnRFLdhNhED=s64",
      "userId": "07466696460023830380"
     },
     "user_tz": -180
    },
    "id": "qoQ43PKZKc1f",
    "outputId": "003ca497-b7e0-4e8d-86a7-d70bc8805dd2"
   },
   "outputs": [
    {
     "data": {
      "image/png": "[encoded data removed]",
      "text/plain": [
       "<Figure size 504x360 with 1 Axes>"
      ]
     },
     "metadata": {
      "tags": []
     },
     "output_type": "display_data"
    }
   ],
   "source": [
    "search_key = 'حقوق الإنسان'\n",
    "bins = list(bbc_dict.keys());\n",
    "data = dict()\n",
    "for key in bbc_dict.keys():\n",
    "    data[key] = word_count(search_key, bbc_dict[key])\n",
    "lists = sorted(data.items())\n",
    "x, y = zip(*lists)\n",
    "plt.figure(figsize=(7,5))\n",
    "plt.plot(x, y)\n",
    "plt.show()"
   ]
  },
  {
   "cell_type": "markdown",
   "metadata": {
    "colab_type": "text",
    "id": "v6gObxXGKjn_"
   },
   "source": [
    "------------------------------------------------------------"
   ]
  },
  {
   "cell_type": "markdown",
   "metadata": {
    "colab_type": "text",
    "id": "2fcUtgcGKko1"
   },
   "source": [
    "### Example 6 - \n",
    "#### word: \"حقوق الإنسان\"\n",
    "#### in: euro"
   ]
  },
  {
   "cell_type": "code",
   "execution_count": 0,
   "metadata": {
    "colab": {
     "base_uri": "https://localhost:8080/",
     "height": 320
    },
    "colab_type": "code",
    "executionInfo": {
     "elapsed": 692,
     "status": "ok",
     "timestamp": 1573068119120,
     "user": {
      "displayName": "Mohammed El-Agha",
      "photoUrl": "https://lh3.googleusercontent.com/a-/AAuE7mCGmpRPF21sBF4FQoQvkbo3t1wJPMnRFLdhNhED=s64",
      "userId": "07466696460023830380"
     },
     "user_tz": -180
    },
    "id": "5exGrQmRKoCm",
    "outputId": "4ff2d189-fbc6-4614-82bf-eb18d20412a1"
   },
   "outputs": [
    {
     "data": {
      "image/png": "[encoded data removed]",
      "text/plain": [
       "<Figure size 504x360 with 1 Axes>"
      ]
     },
     "metadata": {
      "tags": []
     },
     "output_type": "display_data"
    }
   ],
   "source": [
    "search_key = 'حقوق الإنسان'\n",
    "bins = list(euro_dict.keys());\n",
    "data = dict()\n",
    "for key in euro_dict.keys():\n",
    "    data[key] = word_count(search_key, euro_dict[key])\n",
    "lists = sorted(data.items())\n",
    "x, y = zip(*lists)\n",
    "plt.figure(figsize=(7,5))\n",
    "plt.plot(x, y)\n",
    "plt.show()"
   ]
  },
  {
   "cell_type": "markdown",
   "metadata": {
    "colab_type": "text",
    "id": "wu6aSMwaKtxw"
   },
   "source": [
    "--------------------------------------------------------------------"
   ]
  },
  {
   "cell_type": "markdown",
   "metadata": {
    "colab_type": "text",
    "id": "kogwmUP9Ku2W"
   },
   "source": [
    "### Example 7 - \n",
    "#### word: \"إرهاب\"\n",
    "#### in: euro"
   ]
  },
  {
   "cell_type": "code",
   "execution_count": 0,
   "metadata": {
    "colab": {
     "base_uri": "https://localhost:8080/",
     "height": 320
    },
    "colab_type": "code",
    "executionInfo": {
     "elapsed": 925,
     "status": "ok",
     "timestamp": 1573068189432,
     "user": {
      "displayName": "Mohammed El-Agha",
      "photoUrl": "https://lh3.googleusercontent.com/a-/AAuE7mCGmpRPF21sBF4FQoQvkbo3t1wJPMnRFLdhNhED=s64",
      "userId": "07466696460023830380"
     },
     "user_tz": -180
    },
    "id": "Y3AQ4QWXK5JH",
    "outputId": "9853baf6-8785-49bb-cac1-5ef9970e0df4"
   },
   "outputs": [
    {
     "data": {
      "image/png": "[encoded data removed]",
      "text/plain": [
       "<Figure size 504x360 with 1 Axes>"
      ]
     },
     "metadata": {
      "tags": []
     },
     "output_type": "display_data"
    }
   ],
   "source": [
    "search_key = 'إرهاب'\n",
    "bins = list(euro_dict.keys());\n",
    "data = dict()\n",
    "for key in euro_dict.keys():\n",
    "    data[key] = word_count(search_key, euro_dict[key])\n",
    "lists = sorted(data.items())\n",
    "x, y = zip(*lists)\n",
    "plt.figure(figsize=(7,5))\n",
    "plt.plot(x, y)\n",
    "plt.show()"
   ]
  },
  {
   "cell_type": "markdown",
   "metadata": {
    "colab_type": "text",
    "id": "Gn2OQc0YK9Tb"
   },
   "source": [
    "--------------------------------------------------------------"
   ]
  },
  {
   "cell_type": "markdown",
   "metadata": {
    "colab_type": "text",
    "id": "PYIld9QnK-R_"
   },
   "source": [
    "### Example 8 - \n",
    "#### word: \"إرهاب\"\n",
    "#### in: bbc"
   ]
  },
  {
   "cell_type": "code",
   "execution_count": 0,
   "metadata": {
    "colab": {
     "base_uri": "https://localhost:8080/",
     "height": 320
    },
    "colab_type": "code",
    "executionInfo": {
     "elapsed": 1340,
     "status": "ok",
     "timestamp": 1573068223244,
     "user": {
      "displayName": "Mohammed El-Agha",
      "photoUrl": "https://lh3.googleusercontent.com/a-/AAuE7mCGmpRPF21sBF4FQoQvkbo3t1wJPMnRFLdhNhED=s64",
      "userId": "07466696460023830380"
     },
     "user_tz": -180
    },
    "id": "XHLHoPVnLATP",
    "outputId": "74a6ba76-9408-4a1b-e79f-68069e1852a6"
   },
   "outputs": [
    {
     "data": {
      "image/png": "[encoded data removed]",
      "text/plain": [
       "<Figure size 504x360 with 1 Axes>"
      ]
     },
     "metadata": {
      "tags": []
     },
     "output_type": "display_data"
    }
   ],
   "source": [
    "search_key = 'إرهاب'\n",
    "bins = list(bbc_dict.keys());\n",
    "data = dict()\n",
    "for key in bbc_dict.keys():\n",
    "    data[key] = word_count(search_key, bbc_dict[key])\n",
    "lists = sorted(data.items())\n",
    "x, y = zip(*lists)\n",
    "plt.figure(figsize=(7,5))\n",
    "plt.plot(x, y)\n",
    "plt.show()"
   ]
  },
  {
   "cell_type": "markdown",
   "metadata": {
    "colab_type": "text",
    "id": "Wz5Hp24NLHMI"
   },
   "source": [
    "---------------------------------------------------------------------"
   ]
  },
  {
   "cell_type": "markdown",
   "metadata": {
    "colab_type": "text",
    "id": "usvnJgPpLIPm"
   },
   "source": [
    "### Example 9 - \n",
    "#### word: \"إرهاب\"\n",
    "#### in: jsc"
   ]
  },
  {
   "cell_type": "code",
   "execution_count": 0,
   "metadata": {
    "colab": {
     "base_uri": "https://localhost:8080/",
     "height": 320
    },
    "colab_type": "code",
    "executionInfo": {
     "elapsed": 1245,
     "status": "ok",
     "timestamp": 1573068264132,
     "user": {
      "displayName": "Mohammed El-Agha",
      "photoUrl": "https://lh3.googleusercontent.com/a-/AAuE7mCGmpRPF21sBF4FQoQvkbo3t1wJPMnRFLdhNhED=s64",
      "userId": "07466696460023830380"
     },
     "user_tz": -180
    },
    "id": "yuhbbi_3LKh7",
    "outputId": "868d0e8d-c8ed-48eb-e07e-d39e28f76923"
   },
   "outputs": [
    {
     "data": {
      "image/png": "[encoded data removed]",
      "text/plain": [
       "<Figure size 504x360 with 1 Axes>"
      ]
     },
     "metadata": {
      "tags": []
     },
     "output_type": "display_data"
    }
   ],
   "source": [
    "search_key = 'إرهاب'\n",
    "bins = list(jsc_dict.keys());\n",
    "data = dict()\n",
    "for key in jsc_dict.keys():\n",
    "    data[key] = word_count(search_key, jsc_dict[key])\n",
    "lists = sorted(data.items())\n",
    "x, y = zip(*lists)\n",
    "plt.figure(figsize=(7,5))\n",
    "plt.plot(x, y)\n",
    "plt.show()"
   ]
  },
  {
   "cell_type": "markdown",
   "metadata": {
    "colab_type": "text",
    "id": "HdxNyFS5LUuW"
   },
   "source": [
    "-------------------------------------------"
   ]
  },
  {
   "cell_type": "markdown",
   "metadata": {
    "colab_type": "text",
    "id": "aX16svCjLVjM"
   },
   "source": [
    "### Example 10 - \n",
    "#### word: \"حوثي\"\n",
    "#### in: jsc\n",
    "##### incluing \"حوثيين\", \"الحوثي\", \"الحوثيون\", \"الحوثيين\""
   ]
  },
  {
   "cell_type": "code",
   "execution_count": 0,
   "metadata": {
    "colab": {
     "base_uri": "https://localhost:8080/",
     "height": 323
    },
    "colab_type": "code",
    "executionInfo": {
     "elapsed": 2122,
     "status": "ok",
     "timestamp": 1573068345174,
     "user": {
      "displayName": "Mohammed El-Agha",
      "photoUrl": "https://lh3.googleusercontent.com/a-/AAuE7mCGmpRPF21sBF4FQoQvkbo3t1wJPMnRFLdhNhED=s64",
      "userId": "07466696460023830380"
     },
     "user_tz": -180
    },
    "id": "8Xkg5M60LfLS",
    "outputId": "a4c2e2ad-b0ef-433c-e654-04ebcfd1a4fa"
   },
   "outputs": [
    {
     "data": {
      "image/png": "[encoded data removed]",
      "text/plain": [
       "<Figure size 504x360 with 1 Axes>"
      ]
     },
     "metadata": {
      "tags": []
     },
     "output_type": "display_data"
    }
   ],
   "source": [
    "search_key = 'حوثي'\n",
    "bins = list(jsc_dict.keys());\n",
    "data = dict()\n",
    "for key in jsc_dict.keys():\n",
    "    data[key] = word_count(search_key, jsc_dict[key])\n",
    "lists = sorted(data.items())\n",
    "x, y = zip(*lists)\n",
    "plt.figure(figsize=(7,5))\n",
    "plt.plot(x, y)\n",
    "plt.show()"
   ]
  },
  {
   "cell_type": "markdown",
   "metadata": {
    "colab_type": "text",
    "id": "Afy4tNpkLrVD"
   },
   "source": [
    "---------------------------------------"
   ]
  },
  {
   "cell_type": "markdown",
   "metadata": {
    "colab_type": "text",
    "id": "yDDVTyW-LsDL"
   },
   "source": [
    "### Example 11 - \n",
    "#### word: \"حوثي\"\n",
    "#### in: jsc\n",
    "##### incluing \"حوثيين\", \"الحوثي\", \"الحوثيون\", \"الحوثيين\""
   ]
  },
  {
   "cell_type": "code",
   "execution_count": 0,
   "metadata": {
    "colab": {
     "base_uri": "https://localhost:8080/",
     "height": 320
    },
    "colab_type": "code",
    "executionInfo": {
     "elapsed": 1461,
     "status": "ok",
     "timestamp": 1573068411688,
     "user": {
      "displayName": "Mohammed El-Agha",
      "photoUrl": "https://lh3.googleusercontent.com/a-/AAuE7mCGmpRPF21sBF4FQoQvkbo3t1wJPMnRFLdhNhED=s64",
      "userId": "07466696460023830380"
     },
     "user_tz": -180
    },
    "id": "h-X1zRwKLuZB",
    "outputId": "727774fe-507d-423c-a0e3-a0e99e0d27e9"
   },
   "outputs": [
    {
     "data": {
      "image/png": "[encoded data removed]",
      "text/plain": [
       "<Figure size 504x360 with 1 Axes>"
      ]
     },
     "metadata": {
      "tags": []
     },
     "output_type": "display_data"
    }
   ],
   "source": [
    "search_key = 'حوثي'\n",
    "bins = list(bbc_dict.keys());\n",
    "data = dict()\n",
    "for key in bbc_dict.keys():\n",
    "    data[key] = word_count(search_key, bbc_dict[key])\n",
    "lists = sorted(data.items())\n",
    "x, y = zip(*lists)\n",
    "plt.figure(figsize=(7,5))\n",
    "plt.plot(x, y)\n",
    "plt.show()"
   ]
  },
  {
   "cell_type": "markdown",
   "metadata": {
    "colab_type": "text",
    "id": "Gnn4Pd7UL2Ln"
   },
   "source": [
    "---------------------------------------------"
   ]
  },
  {
   "cell_type": "markdown",
   "metadata": {
    "colab_type": "text",
    "id": "a1MUP0WJL27H"
   },
   "source": [
    "### Example 12 - \n",
    "#### word: \"حرب\"\n",
    "#### in: jsc"
   ]
  },
  {
   "cell_type": "code",
   "execution_count": 0,
   "metadata": {
    "colab": {
     "base_uri": "https://localhost:8080/",
     "height": 320
    },
    "colab_type": "code",
    "executionInfo": {
     "elapsed": 1752,
     "status": "ok",
     "timestamp": 1573068460669,
     "user": {
      "displayName": "Mohammed El-Agha",
      "photoUrl": "https://lh3.googleusercontent.com/a-/AAuE7mCGmpRPF21sBF4FQoQvkbo3t1wJPMnRFLdhNhED=s64",
      "userId": "07466696460023830380"
     },
     "user_tz": -180
    },
    "id": "SDNYZwjdL6mW",
    "outputId": "9390e81e-09c7-4b8a-aab9-ffc5345d71a3"
   },
   "outputs": [
    {
     "data": {
      "image/png": "[encoded data removed]",
      "text/plain": [
       "<Figure size 504x360 with 1 Axes>"
      ]
     },
     "metadata": {
      "tags": []
     },
     "output_type": "display_data"
    }
   ],
   "source": [
    "search_key = 'حرب'\n",
    "bins = list(jsc_dict.keys());\n",
    "data = dict()\n",
    "for key in jsc_dict.keys():\n",
    "    data[key] = word_count(search_key, jsc_dict[key])\n",
    "lists = sorted(data.items())\n",
    "x, y = zip(*lists)\n",
    "plt.figure(figsize=(7,5))\n",
    "plt.plot(x, y)\n",
    "plt.show()"
   ]
  },
  {
   "cell_type": "markdown",
   "metadata": {
    "colab_type": "text",
    "id": "CDqyQFLEL-tJ"
   },
   "source": [
    "---------------------------------------------------"
   ]
  },
  {
   "cell_type": "markdown",
   "metadata": {
    "colab_type": "text",
    "id": "GxrzMHkEMTLa"
   },
   "source": [
    "### Example 13 - \n",
    "#### word: \"حرب\"\n",
    "#### in: bbc"
   ]
  },
  {
   "cell_type": "code",
   "execution_count": 0,
   "metadata": {
    "colab": {
     "base_uri": "https://localhost:8080/",
     "height": 320
    },
    "colab_type": "code",
    "executionInfo": {
     "elapsed": 1082,
     "status": "ok",
     "timestamp": 1573068570826,
     "user": {
      "displayName": "Mohammed El-Agha",
      "photoUrl": "https://lh3.googleusercontent.com/a-/AAuE7mCGmpRPF21sBF4FQoQvkbo3t1wJPMnRFLdhNhED=s64",
      "userId": "07466696460023830380"
     },
     "user_tz": -180
    },
    "id": "rVf69Xh-MWXw",
    "outputId": "763bf779-2e5a-47e3-8560-4750356a9f61"
   },
   "outputs": [
    {
     "data": {
      "image/png": "[encoded data removed]",
      "text/plain": [
       "<Figure size 504x360 with 1 Axes>"
      ]
     },
     "metadata": {
      "tags": []
     },
     "output_type": "display_data"
    }
   ],
   "source": [
    "search_key = 'حرب'\n",
    "bins = list(bbc_dict.keys());\n",
    "data = dict()\n",
    "for key in bbc_dict.keys():\n",
    "    data[key] = word_count(search_key, bbc_dict[key])\n",
    "lists = sorted(data.items())\n",
    "x, y = zip(*lists)\n",
    "plt.figure(figsize=(7,5))\n",
    "plt.plot(x, y)\n",
    "plt.show()"
   ]
  },
  {
   "cell_type": "markdown",
   "metadata": {
    "colab_type": "text",
    "id": "deHIUg8FMlDj"
   },
   "source": [
    "-----------------------------------------------"
   ]
  },
  {
   "cell_type": "markdown",
   "metadata": {
    "colab_type": "text",
    "id": "spFxNlvqMmSR"
   },
   "source": [
    "### Example 14 - \n",
    "#### word: \"أردوغان\"\n",
    "#### in: bbc"
   ]
  },
  {
   "cell_type": "code",
   "execution_count": 0,
   "metadata": {
    "colab": {
     "base_uri": "https://localhost:8080/",
     "height": 320
    },
    "colab_type": "code",
    "executionInfo": {
     "elapsed": 1677,
     "status": "ok",
     "timestamp": 1573068646273,
     "user": {
      "displayName": "Mohammed El-Agha",
      "photoUrl": "https://lh3.googleusercontent.com/a-/AAuE7mCGmpRPF21sBF4FQoQvkbo3t1wJPMnRFLdhNhED=s64",
      "userId": "07466696460023830380"
     },
     "user_tz": -180
    },
    "id": "8bVATkBtMoy-",
    "outputId": "491f322e-a449-40cc-b4e4-b87a8d4e6f88"
   },
   "outputs": [
    {
     "data": {
      "image/png": "[encoded data removed]",
      "text/plain": [
       "<Figure size 504x360 with 1 Axes>"
      ]
     },
     "metadata": {
      "tags": []
     },
     "output_type": "display_data"
    }
   ],
   "source": [
    "search_key = 'أردوغان'\n",
    "bins = list(bbc_dict.keys());\n",
    "data = dict()\n",
    "for key in bbc_dict.keys():\n",
    "    data[key] = word_count(search_key, bbc_dict[key])\n",
    "lists = sorted(data.items())\n",
    "x, y = zip(*lists)\n",
    "plt.figure(figsize=(7,5))\n",
    "plt.plot(x, y)\n",
    "plt.show()"
   ]
  },
  {
   "cell_type": "markdown",
   "metadata": {
    "colab_type": "text",
    "id": "NgghOIsSMtwZ"
   },
   "source": [
    "------------------------------------------"
   ]
  },
  {
   "cell_type": "markdown",
   "metadata": {
    "colab_type": "text",
    "id": "KOtyPlAtMwo6"
   },
   "source": [
    "### Example 15 - \n",
    "#### word: \"أردوغان\"\n",
    "#### in: jsc"
   ]
  },
  {
   "cell_type": "code",
   "execution_count": 0,
   "metadata": {
    "colab": {
     "base_uri": "https://localhost:8080/",
     "height": 320
    },
    "colab_type": "code",
    "executionInfo": {
     "elapsed": 1462,
     "status": "ok",
     "timestamp": 1573068693618,
     "user": {
      "displayName": "Mohammed El-Agha",
      "photoUrl": "https://lh3.googleusercontent.com/a-/AAuE7mCGmpRPF21sBF4FQoQvkbo3t1wJPMnRFLdhNhED=s64",
      "userId": "07466696460023830380"
     },
     "user_tz": -180
    },
    "id": "WOTV-3G3My-R",
    "outputId": "c2a94f59-20e9-4058-9623-79756b7a951b"
   },
   "outputs": [
    {
     "data": {
      "image/png": "[encoded data removed]",
      "text/plain": [
       "<Figure size 504x360 with 1 Axes>"
      ]
     },
     "metadata": {
      "tags": []
     },
     "output_type": "display_data"
    }
   ],
   "source": [
    "search_key = 'أردوغان'\n",
    "bins = list(jsc_dict.keys());\n",
    "data = dict()\n",
    "for key in jsc_dict.keys():\n",
    "    data[key] = word_count(search_key, jsc_dict[key])\n",
    "lists = sorted(data.items())\n",
    "x, y = zip(*lists)\n",
    "plt.figure(figsize=(7,5))\n",
    "plt.plot(x, y)\n",
    "plt.show()"
   ]
  },
  {
   "cell_type": "markdown",
   "metadata": {
    "colab_type": "text",
    "id": "oHUEK1mzXJds"
   },
   "source": [
    "--------------------------------------------------------------------"
   ]
  },
  {
   "cell_type": "markdown",
   "metadata": {
    "colab_type": "text",
    "id": "54RTJ5t7XKdg"
   },
   "source": [
    "# Final Results and Conclusions"
   ]
  },
  {
   "cell_type": "markdown",
   "metadata": {
    "colab_type": "text",
    "id": "P_RmYI-5XTM1"
   },
   "source": [
    "1. JSC much focus on \"قطر\" and \"أردوغان\"\n",
    "2. JSC brisk in 2016\n",
    "3. EURO brisk in 2015-2016\n",
    "4. \"بشار الأسد\" in CNN has most frequent in 2015, then it fell sharply\n",
    "5. \"ديمقراطية\" in EURO has most frequent in 2018-2019\n",
    "6. \"ديمقراطية\" in JSC has most frequent in 2016-2017\n",
    "7. \"غزة\" in JSC has most frequent in 2017, and there was focus in 2007-2010\n",
    "8. BBC focus on \"حقوق الإنسان\" in 2011-2013, then it fell sharply\n",
    "9. \"إرهاب\" in BBC has most frequent in 2014, synchronize with widespread of ISIS\n",
    "10. \"إرهاب\" in JSC has most frequent in 2017\n",
    "11. \"حرب\" in JSC has most frequent in 2017\n",
    "12. \"حوثي\" in JSC has most frequent in 2017\n",
    "13. \"حرب\" in BBC has most frequent in 2015, and there was much focus in 2018 another time\n",
    "14. \"أردوغان\" in JSC has most frequent in 2017\n",
    "\n"
   ]
  }
 ],
 "metadata": {
  "colab": {
   "collapsed_sections": [],
   "name": "NLP Assignment 2.ipynb",
   "provenance": []
  },
  "kernelspec": {
   "display_name": "Python 3",
   "language": "python",
   "name": "python3"
  },
  "language_info": {
   "codemirror_mode": {
    "name": "ipython",
    "version": 3
   },
   "file_extension": ".py",
   "mimetype": "text/x-python",
   "name": "python",
   "nbconvert_exporter": "python",
   "pygments_lexer": "ipython3",
   "version": "3.7.3"
  }
 },
 "nbformat": 4,
 "nbformat_minor": 1
}
