{
 "cells": [
  {
   "cell_type": "markdown",
   "metadata": {
    "colab_type": "text",
    "id": "00NnmJhJ6T0O"
   },
   "source": [
    "# Arabic Female Names Classifier"
   ]
  },
  {
   "cell_type": "markdown",
   "metadata": {
    "colab_type": "text",
    "id": "Yjtd7Gfz6X4T"
   },
   "source": [
    "Classification based on:\n",
    "1. not contains 'محمد'\n",
    "2. not contants 'عبد'\n",
    "3. not end with Majesty term\n",
    "4. not end with 'الدين'\n",
    "5. end with 'ا' or 'ين' or 'ة' or 'ه'"
   ]
  },
  {
   "cell_type": "code",
   "execution_count": 0,
   "metadata": {
    "colab": {},
    "colab_type": "code",
    "id": "YBOunyKh7MtM"
   },
   "outputs": [],
   "source": [
    "import re\n",
    "from google.colab import drive\n",
    "\n",
    "def female_regex(name):\n",
    "    the_Majesty_term = 'الله'\n",
    "    regex_3 = '^[^(?=.*محمد)(?=.*عبد)].*([ة|ا|ين| ه])$'\n",
    "    regex_4 = '[^[^(?=.*الدين)(?=.*'+ the_Majesty_term +')]$'\n",
    "    return re.search(regex_3, name) and re.search(regex_4, name)\n",
    "\n",
    "def load_lined_corpus(file_name):\n",
    "    base_url = \"url or Drive path/\"\n",
    "    text = open(base_url+file_name, encoding = \"utf-8\").read().split('\\n')\n",
    "    return text\n",
    "\n",
    "#drive.mount('/content/drive')\n"
   ]
  },
  {
   "cell_type": "code",
   "execution_count": 0,
   "metadata": {
    "colab": {},
    "colab_type": "code",
    "id": "PhJmV-0z7Wak"
   },
   "outputs": [],
   "source": [
    "file_path = 'corpus/names_all2.txt'\n",
    "data = load_lined_corpus(file_path)\n",
    "females = list()\n",
    "for n in data:\n",
    "    if female_regex(n):\n",
    "        females.append(n)\n",
    "        \n",
    "print (females)\n"
   ]
  },
  {
   "cell_type": "markdown",
   "metadata": {
    "colab_type": "text",
    "id": "pFxPYpbHEEDf"
   },
   "source": [
    "## Result"
   ]
  },
  {
   "cell_type": "markdown",
   "metadata": {
    "colab_type": "text",
    "id": "TRarKYSTEHAN"
   },
   "source": [
    "['آمنة', 'آية', 'أديبة', 'أسيلة', 'أمية', 'أميرة', 'أمينة', 'أنيسة', 'الجوهرة', 'امنة', 'امينة', 'انيسة', 'تحفة', 'تفاحة', 'تقية', 'تمارة', 'تميمة', 'توحة', 'توحيدة', 'ثائرة', 'ثاقبة', 'ثامرة', 'ثمينة', 'ثنية', 'جليلة', 'جمانة', 'جميلة', 'جهينة', 'جوهرة', 'خاشعة', 'خافقة', 'خالدة', 'خديجة', 'خلة', 'خميلة', 'خولة', 'خويلة', 'خيرية', 'ذكية', 'رئيسة', 'رئيفة', 'رائدة', 'رائفة', 'رابعة', 'رابية', 'راتعة', 'راجية', 'راسية', 'راشدة', 'راضية', 'راغبة', 'راغدة', 'راقية', 'راكعة', 'رانية', 'راوية', 'ربابة', 'ربوة', 'ربيحة', 'ربيعة', 'رسمية', 'رشيدة', 'رشيقة', 'رضية', 'رغدة', 'رفقة', 'رفقية', 'رفيقة', 'رقية', 'رقيقة', 'رمزية', 'رهيفة', 'روحية', 'روضة', 'روية', 'ريانة', 'ريحانة', 'زاخرة', 'زاكية', 'زاهرة', 'زاهية', 'زكية', 'زهدة', 'زهرة', 'زهيرة', 'سائدة', 'ساجدة', 'سارة', 'سالمة', 'سامرة', 'سامية', 'ساهدة', 'سخية', 'سرية', 'سكينة', 'سلافة', 'سلوانة', 'سليمة', 'سماحة', 'سمارة', 'سمية', 'سميرة', 'سنبلة', 'سنية', 'سهدة', 'سهيلة', 'سيدة', 'شادية', 'شاكرة', 'شبابة', 'شريفة', 'شكرية', 'شكورة', 'شهيرة', 'صائبة', 'صابحة', 'صاحبة', 'صادقة', 'صافية', 'صالحة', 'صباحة', 'صبحة', 'صبحية', 'صبرية', 'صبوة', 'صبيحة', 'صفية', 'ضاحكة', 'طبيعة', 'طرفة', 'ظافرة', 'ظبية', 'ظريفة', 'غادة', 'غالية', 'غانية', 'غريفة', 'غنوة', 'فائزة', 'فائقة', 'فاتحة', 'فاتنة', 'فاخرة', 'فادية', 'فارعة', 'فاضلة', 'فاطمة', 'فايزة', 'فتحية', 'فخرية', 'فريدة', 'فريزة', 'فصيحة', 'فضية', 'فطينة', 'فكرية', 'فهمية', 'فهيمة', 'فوزية', 'فياحة', 'قانعة', 'قدرية', 'قدسية', 'قديرة', 'كافية', 'كاملة', 'كرامة', 'كريمة', 'كفاية', 'كليلة', 'كميلة', 'لؤلؤة', 'لبيبة', 'لطفية', 'لطيفة', 'نائلة', 'نابغة', 'نابهة', 'ناجلة', 'ناجية', 'ناحلة', 'نادرة', 'نادية', 'ناهدة', 'نبيلة', 'نجاة', 'نجلة', 'نجمة', 'نجية', 'نديمة', 'نزهة', 'نزيهة', 'نسمة', 'نشوة', 'نصيرة', 'نظيرة', 'نعمة', 'نفيسة', 'نهاية', 'نهلة', 'نوارة', 'هادية', 'هالة', 'هبة', 'هداية', 'واثقة', 'واجدة', 'وادعة', 'وارفة', 'والهة', 'وجيهة', 'وحيدة', 'وداعة', 'وديعة', 'وردة', 'وضحة', 'وفية', 'وفيقة', 'وهيبة', 'يافعة', 'يانعة', 'يسرية', 'يمامة', 'يهسجة', 'اسامة', 'جبارة', 'جمعة', 'رائدة', 'راوية', 'رسمية', 'سلامة', 'سيدة', 'شحادة', 'شحتة', 'صايدة', 'غادة', 'فاطمة', 'فوزية', 'كفاية', 'وفيقة']"
   ]
  }
 ],
 "metadata": {
  "colab": {
   "collapsed_sections": [],
   "name": "Assignment 5 - Arabic Female Classifier.ipynb",
   "provenance": []
  },
  "kernelspec": {
   "display_name": "Python 3",
   "language": "python",
   "name": "python3"
  },
  "language_info": {
   "codemirror_mode": {
    "name": "ipython",
    "version": 3
   },
   "file_extension": ".py",
   "mimetype": "text/x-python",
   "name": "python",
   "nbconvert_exporter": "python",
   "pygments_lexer": "ipython3",
   "version": "3.7.3"
  }
 },
 "nbformat": 4,
 "nbformat_minor": 1
}
